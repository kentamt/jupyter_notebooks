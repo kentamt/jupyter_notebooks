{
 "cells": [
  {
   "cell_type": "code",
   "execution_count": 2,
   "metadata": {},
   "outputs": [],
   "source": [
    "import numpy\n",
    "import cvxopt\n",
    "from cvxopt import matrix"
   ]
  },
  {
   "cell_type": "code",
   "execution_count": 4,
   "metadata": {},
   "outputs": [],
   "source": [
    "P=matrix(numpy.diag([1.0,0.0]))\n",
    "q=matrix(numpy.array([3.0,4.0]))\n",
    "G=matrix(numpy.array([[-1.0,0.0],[0,-1.0],[-1.0,-3.0],[2.0,5.0],[3.0,4.0]]))\n",
    "h=matrix(numpy.array([0.0,0.0,-15.0,100.0,80.0]))"
   ]
  },
  {
   "cell_type": "code",
   "execution_count": 5,
   "metadata": {},
   "outputs": [
    {
     "name": "stdout",
     "output_type": "stream",
     "text": [
      "     pcost       dcost       gap    pres   dres\n",
      " 0:  1.0780e+02 -7.6366e+02  9e+02  4e-17  4e+01\n",
      " 1:  9.3245e+01  9.7637e+00  8e+01  8e-17  3e+00\n",
      " 2:  6.7311e+01  3.2553e+01  3e+01  8e-17  1e+00\n",
      " 3:  2.6071e+01  1.5068e+01  1e+01  7e-17  7e-01\n",
      " 4:  3.7092e+01  2.3152e+01  1e+01  1e-16  4e-01\n",
      " 5:  2.5352e+01  1.8652e+01  7e+00  9e-17  4e-16\n",
      " 6:  2.0062e+01  1.9974e+01  9e-02  7e-17  2e-16\n",
      " 7:  2.0001e+01  2.0000e+01  9e-04  8e-17  2e-16\n",
      " 8:  2.0000e+01  2.0000e+01  9e-06  1e-16  2e-16\n",
      "Optimal solution found.\n",
      "{'x': <2x1 matrix, tc='d'>, 'y': <0x1 matrix, tc='d'>, 's': <5x1 matrix, tc='d'>, 'z': <5x1 matrix, tc='d'>, 'status': 'optimal', 'gap': 8.788553731701274e-06, 'relative gap': 4.3942774404993765e-07, 'primal objective': 20.00000617311241, 'dual objective': 19.99999738455868, 'primal infeasibility': 1.1710307819972547e-16, 'dual infeasibility': 1.9860273225978186e-16, 'primal slack': 7.131816408857108e-07, 'dual slack': 1.50695110360481e-08, 'iterations': 8}\n",
      "[ 7.13e-07]\n",
      "[ 5.00e+00]\n",
      "\n",
      "20.00000617311241\n"
     ]
    }
   ],
   "source": [
    "sol=cvxopt.solvers.qp(P,q,G,h)\n",
    "\n",
    "print(sol)\n",
    "print(sol[\"x\"])\n",
    "print(sol[\"primal objective\"])"
   ]
  },
  {
   "cell_type": "code",
   "execution_count": null,
   "metadata": {},
   "outputs": [],
   "source": []
  }
 ],
 "metadata": {
  "kernelspec": {
   "display_name": "py36con",
   "language": "python",
   "name": "py36con"
  },
  "language_info": {
   "codemirror_mode": {
    "name": "ipython",
    "version": 3
   },
   "file_extension": ".py",
   "mimetype": "text/x-python",
   "name": "python",
   "nbconvert_exporter": "python",
   "pygments_lexer": "ipython3",
   "version": "3.6.9"
  }
 },
 "nbformat": 4,
 "nbformat_minor": 2
}
